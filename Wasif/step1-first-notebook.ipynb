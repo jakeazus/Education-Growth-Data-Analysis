{
 "cells": [
  {
   "cell_type": "code",
   "execution_count": 46,
   "metadata": {},
   "outputs": [],
   "source": [
    "import pandas as pd \n",
    "import requests\n",
    "import matplotlib.pyplot as plt\n",
    "import scipy.stats as sts\n",
    "import numpy as np\n",
    "import json"
   ]
  },
  {
   "cell_type": "code",
   "execution_count": 82,
   "metadata": {},
   "outputs": [
    {
     "data": {
      "text/html": [
       "<div>\n",
       "<style scoped>\n",
       "    .dataframe tbody tr th:only-of-type {\n",
       "        vertical-align: middle;\n",
       "    }\n",
       "\n",
       "    .dataframe tbody tr th {\n",
       "        vertical-align: top;\n",
       "    }\n",
       "\n",
       "    .dataframe thead th {\n",
       "        text-align: right;\n",
       "    }\n",
       "</style>\n",
       "<table border=\"1\" class=\"dataframe\">\n",
       "  <thead>\n",
       "    <tr style=\"text-align: right;\">\n",
       "      <th></th>\n",
       "      <th>Country Name</th>\n",
       "      <th>Country Code</th>\n",
       "      <th>Indicator Name</th>\n",
       "      <th>2001</th>\n",
       "      <th>2002</th>\n",
       "      <th>2003</th>\n",
       "      <th>2004</th>\n",
       "      <th>2005</th>\n",
       "      <th>2006</th>\n",
       "      <th>2007</th>\n",
       "      <th>2008</th>\n",
       "      <th>2009</th>\n",
       "      <th>2010</th>\n",
       "      <th>2011</th>\n",
       "    </tr>\n",
       "  </thead>\n",
       "  <tbody>\n",
       "    <tr>\n",
       "      <th>0</th>\n",
       "      <td>United Kingdom</td>\n",
       "      <td>GBR</td>\n",
       "      <td>Population of the official age for secondary e...</td>\n",
       "      <td>5281251.0</td>\n",
       "      <td>5371033.0</td>\n",
       "      <td>5428790.0</td>\n",
       "      <td>5459665.0</td>\n",
       "      <td>5466397.0</td>\n",
       "      <td>5450755.0</td>\n",
       "      <td>5474232.0</td>\n",
       "      <td>5477854.0</td>\n",
       "      <td>5464484.0</td>\n",
       "      <td>5434493.0</td>\n",
       "      <td>5385484.0</td>\n",
       "    </tr>\n",
       "    <tr>\n",
       "      <th>1</th>\n",
       "      <td>United Kingdom</td>\n",
       "      <td>GBR</td>\n",
       "      <td>Population of the official age for secondary e...</td>\n",
       "      <td>2580514.0</td>\n",
       "      <td>2621106.0</td>\n",
       "      <td>2645591.0</td>\n",
       "      <td>2656926.0</td>\n",
       "      <td>2657262.0</td>\n",
       "      <td>2648123.0</td>\n",
       "      <td>2668074.0</td>\n",
       "      <td>2677290.0</td>\n",
       "      <td>2675829.0</td>\n",
       "      <td>2663199.0</td>\n",
       "      <td>2638065.0</td>\n",
       "    </tr>\n",
       "    <tr>\n",
       "      <th>2</th>\n",
       "      <td>United Kingdom</td>\n",
       "      <td>GBR</td>\n",
       "      <td>Population of the official age for secondary e...</td>\n",
       "      <td>2700737.0</td>\n",
       "      <td>2749927.0</td>\n",
       "      <td>2783199.0</td>\n",
       "      <td>2802739.0</td>\n",
       "      <td>2809135.0</td>\n",
       "      <td>2802632.0</td>\n",
       "      <td>2806158.0</td>\n",
       "      <td>2800564.0</td>\n",
       "      <td>2788655.0</td>\n",
       "      <td>2771294.0</td>\n",
       "      <td>2747419.0</td>\n",
       "    </tr>\n",
       "    <tr>\n",
       "      <th>3</th>\n",
       "      <td>United Kingdom</td>\n",
       "      <td>GBR</td>\n",
       "      <td>Population of the official age for tertiary ed...</td>\n",
       "      <td>3485742.0</td>\n",
       "      <td>3579271.0</td>\n",
       "      <td>3684921.0</td>\n",
       "      <td>3785901.0</td>\n",
       "      <td>3877123.0</td>\n",
       "      <td>3951026.0</td>\n",
       "      <td>4028533.0</td>\n",
       "      <td>4095885.0</td>\n",
       "      <td>4153190.0</td>\n",
       "      <td>4197265.0</td>\n",
       "      <td>4225219.0</td>\n",
       "    </tr>\n",
       "    <tr>\n",
       "      <th>4</th>\n",
       "      <td>United Kingdom</td>\n",
       "      <td>GBR</td>\n",
       "      <td>Population of the official age for tertiary ed...</td>\n",
       "      <td>1730684.0</td>\n",
       "      <td>1771079.0</td>\n",
       "      <td>1817199.0</td>\n",
       "      <td>1861146.0</td>\n",
       "      <td>1900267.0</td>\n",
       "      <td>1930730.0</td>\n",
       "      <td>1969999.0</td>\n",
       "      <td>2004477.0</td>\n",
       "      <td>2034937.0</td>\n",
       "      <td>2060122.0</td>\n",
       "      <td>2079167.0</td>\n",
       "    </tr>\n",
       "  </tbody>\n",
       "</table>\n",
       "</div>"
      ],
      "text/plain": [
       "     Country Name Country Code  \\\n",
       "0  United Kingdom          GBR   \n",
       "1  United Kingdom          GBR   \n",
       "2  United Kingdom          GBR   \n",
       "3  United Kingdom          GBR   \n",
       "4  United Kingdom          GBR   \n",
       "\n",
       "                                      Indicator Name       2001       2002  \\\n",
       "0  Population of the official age for secondary e...  5281251.0  5371033.0   \n",
       "1  Population of the official age for secondary e...  2580514.0  2621106.0   \n",
       "2  Population of the official age for secondary e...  2700737.0  2749927.0   \n",
       "3  Population of the official age for tertiary ed...  3485742.0  3579271.0   \n",
       "4  Population of the official age for tertiary ed...  1730684.0  1771079.0   \n",
       "\n",
       "        2003       2004       2005       2006       2007       2008  \\\n",
       "0  5428790.0  5459665.0  5466397.0  5450755.0  5474232.0  5477854.0   \n",
       "1  2645591.0  2656926.0  2657262.0  2648123.0  2668074.0  2677290.0   \n",
       "2  2783199.0  2802739.0  2809135.0  2802632.0  2806158.0  2800564.0   \n",
       "3  3684921.0  3785901.0  3877123.0  3951026.0  4028533.0  4095885.0   \n",
       "4  1817199.0  1861146.0  1900267.0  1930730.0  1969999.0  2004477.0   \n",
       "\n",
       "        2009       2010       2011  \n",
       "0  5464484.0  5434493.0  5385484.0  \n",
       "1  2675829.0  2663199.0  2638065.0  \n",
       "2  2788655.0  2771294.0  2747419.0  \n",
       "3  4153190.0  4197265.0  4225219.0  \n",
       "4  2034937.0  2060122.0  2079167.0  "
      ]
     },
     "execution_count": 82,
     "metadata": {},
     "output_type": "execute_result"
    }
   ],
   "source": [
    "csv_file = \"EdStat_UK_Spain.csv\"\n",
    "education_data = pd.read_csv(csv_file)\n",
    "education_data.head()"
   ]
  },
  {
   "cell_type": "code",
   "execution_count": 83,
   "metadata": {},
   "outputs": [
    {
     "data": {
      "text/html": [
       "<div>\n",
       "<style scoped>\n",
       "    .dataframe tbody tr th:only-of-type {\n",
       "        vertical-align: middle;\n",
       "    }\n",
       "\n",
       "    .dataframe tbody tr th {\n",
       "        vertical-align: top;\n",
       "    }\n",
       "\n",
       "    .dataframe thead th {\n",
       "        text-align: right;\n",
       "    }\n",
       "</style>\n",
       "<table border=\"1\" class=\"dataframe\">\n",
       "  <thead>\n",
       "    <tr style=\"text-align: right;\">\n",
       "      <th></th>\n",
       "      <th>Country Name</th>\n",
       "      <th>Country Code</th>\n",
       "      <th>Indicator Name</th>\n",
       "      <th>2001</th>\n",
       "      <th>2002</th>\n",
       "      <th>2003</th>\n",
       "      <th>2004</th>\n",
       "      <th>2005</th>\n",
       "      <th>2006</th>\n",
       "      <th>2007</th>\n",
       "      <th>2008</th>\n",
       "      <th>2009</th>\n",
       "      <th>2010</th>\n",
       "      <th>2011</th>\n",
       "    </tr>\n",
       "  </thead>\n",
       "  <tbody>\n",
       "    <tr>\n",
       "      <th>0</th>\n",
       "      <td>United Kingdom</td>\n",
       "      <td>GBR</td>\n",
       "      <td>Population of the official age for secondary e...</td>\n",
       "      <td>5.281251e+06</td>\n",
       "      <td>5.371033e+06</td>\n",
       "      <td>5.428790e+06</td>\n",
       "      <td>5.459665e+06</td>\n",
       "      <td>5.466397e+06</td>\n",
       "      <td>5.450755e+06</td>\n",
       "      <td>5.474232e+06</td>\n",
       "      <td>5.477854e+06</td>\n",
       "      <td>5.464484e+06</td>\n",
       "      <td>5.434493e+06</td>\n",
       "      <td>5.385484e+06</td>\n",
       "    </tr>\n",
       "    <tr>\n",
       "      <th>1</th>\n",
       "      <td>United Kingdom</td>\n",
       "      <td>GBR</td>\n",
       "      <td>Population of the official age for secondary e...</td>\n",
       "      <td>2.580514e+06</td>\n",
       "      <td>2.621106e+06</td>\n",
       "      <td>2.645591e+06</td>\n",
       "      <td>2.656926e+06</td>\n",
       "      <td>2.657262e+06</td>\n",
       "      <td>2.648123e+06</td>\n",
       "      <td>2.668074e+06</td>\n",
       "      <td>2.677290e+06</td>\n",
       "      <td>2.675829e+06</td>\n",
       "      <td>2.663199e+06</td>\n",
       "      <td>2.638065e+06</td>\n",
       "    </tr>\n",
       "    <tr>\n",
       "      <th>2</th>\n",
       "      <td>United Kingdom</td>\n",
       "      <td>GBR</td>\n",
       "      <td>Population of the official age for secondary e...</td>\n",
       "      <td>2.700737e+06</td>\n",
       "      <td>2.749927e+06</td>\n",
       "      <td>2.783199e+06</td>\n",
       "      <td>2.802739e+06</td>\n",
       "      <td>2.809135e+06</td>\n",
       "      <td>2.802632e+06</td>\n",
       "      <td>2.806158e+06</td>\n",
       "      <td>2.800564e+06</td>\n",
       "      <td>2.788655e+06</td>\n",
       "      <td>2.771294e+06</td>\n",
       "      <td>2.747419e+06</td>\n",
       "    </tr>\n",
       "    <tr>\n",
       "      <th>3</th>\n",
       "      <td>United Kingdom</td>\n",
       "      <td>GBR</td>\n",
       "      <td>Population of the official age for tertiary ed...</td>\n",
       "      <td>3.485742e+06</td>\n",
       "      <td>3.579271e+06</td>\n",
       "      <td>3.684921e+06</td>\n",
       "      <td>3.785901e+06</td>\n",
       "      <td>3.877123e+06</td>\n",
       "      <td>3.951026e+06</td>\n",
       "      <td>4.028533e+06</td>\n",
       "      <td>4.095885e+06</td>\n",
       "      <td>4.153190e+06</td>\n",
       "      <td>4.197265e+06</td>\n",
       "      <td>4.225219e+06</td>\n",
       "    </tr>\n",
       "    <tr>\n",
       "      <th>4</th>\n",
       "      <td>United Kingdom</td>\n",
       "      <td>GBR</td>\n",
       "      <td>Population of the official age for tertiary ed...</td>\n",
       "      <td>1.730684e+06</td>\n",
       "      <td>1.771079e+06</td>\n",
       "      <td>1.817199e+06</td>\n",
       "      <td>1.861146e+06</td>\n",
       "      <td>1.900267e+06</td>\n",
       "      <td>1.930730e+06</td>\n",
       "      <td>1.969999e+06</td>\n",
       "      <td>2.004477e+06</td>\n",
       "      <td>2.034937e+06</td>\n",
       "      <td>2.060122e+06</td>\n",
       "      <td>2.079167e+06</td>\n",
       "    </tr>\n",
       "    <tr>\n",
       "      <th>5</th>\n",
       "      <td>United Kingdom</td>\n",
       "      <td>GBR</td>\n",
       "      <td>Population of the official age for tertiary ed...</td>\n",
       "      <td>1.755058e+06</td>\n",
       "      <td>1.808192e+06</td>\n",
       "      <td>1.867722e+06</td>\n",
       "      <td>1.924755e+06</td>\n",
       "      <td>1.976856e+06</td>\n",
       "      <td>2.020296e+06</td>\n",
       "      <td>2.058534e+06</td>\n",
       "      <td>2.091408e+06</td>\n",
       "      <td>2.118253e+06</td>\n",
       "      <td>2.137143e+06</td>\n",
       "      <td>2.146052e+06</td>\n",
       "    </tr>\n",
       "    <tr>\n",
       "      <th>6</th>\n",
       "      <td>United Kingdom</td>\n",
       "      <td>GBR</td>\n",
       "      <td>Population growth (annual %)</td>\n",
       "      <td>3.849760e-01</td>\n",
       "      <td>4.233371e-01</td>\n",
       "      <td>4.656411e-01</td>\n",
       "      <td>5.689431e-01</td>\n",
       "      <td>6.866113e-01</td>\n",
       "      <td>7.350487e-01</td>\n",
       "      <td>7.786661e-01</td>\n",
       "      <td>7.870326e-01</td>\n",
       "      <td>7.563909e-01</td>\n",
       "      <td>7.838886e-01</td>\n",
       "      <td>7.816773e-01</td>\n",
       "    </tr>\n",
       "    <tr>\n",
       "      <th>7</th>\n",
       "      <td>Spain</td>\n",
       "      <td>ESP</td>\n",
       "      <td>Population of the official age for secondary e...</td>\n",
       "      <td>2.847214e+06</td>\n",
       "      <td>2.776477e+06</td>\n",
       "      <td>2.719937e+06</td>\n",
       "      <td>2.674847e+06</td>\n",
       "      <td>2.644654e+06</td>\n",
       "      <td>2.629714e+06</td>\n",
       "      <td>2.621290e+06</td>\n",
       "      <td>2.608463e+06</td>\n",
       "      <td>2.588814e+06</td>\n",
       "      <td>2.560624e+06</td>\n",
       "      <td>2.525829e+06</td>\n",
       "    </tr>\n",
       "    <tr>\n",
       "      <th>8</th>\n",
       "      <td>Spain</td>\n",
       "      <td>ESP</td>\n",
       "      <td>Population of the official age for secondary e...</td>\n",
       "      <td>1.381294e+06</td>\n",
       "      <td>1.347284e+06</td>\n",
       "      <td>1.320000e+06</td>\n",
       "      <td>1.298216e+06</td>\n",
       "      <td>1.283776e+06</td>\n",
       "      <td>1.277042e+06</td>\n",
       "      <td>1.273218e+06</td>\n",
       "      <td>1.266914e+06</td>\n",
       "      <td>1.257272e+06</td>\n",
       "      <td>1.243946e+06</td>\n",
       "      <td>1.228149e+06</td>\n",
       "    </tr>\n",
       "    <tr>\n",
       "      <th>9</th>\n",
       "      <td>Spain</td>\n",
       "      <td>ESP</td>\n",
       "      <td>Population of the official age for secondary e...</td>\n",
       "      <td>1.465920e+06</td>\n",
       "      <td>1.429193e+06</td>\n",
       "      <td>1.399937e+06</td>\n",
       "      <td>1.376631e+06</td>\n",
       "      <td>1.360878e+06</td>\n",
       "      <td>1.352672e+06</td>\n",
       "      <td>1.348072e+06</td>\n",
       "      <td>1.341549e+06</td>\n",
       "      <td>1.331542e+06</td>\n",
       "      <td>1.316678e+06</td>\n",
       "      <td>1.297680e+06</td>\n",
       "    </tr>\n",
       "    <tr>\n",
       "      <th>10</th>\n",
       "      <td>Spain</td>\n",
       "      <td>ESP</td>\n",
       "      <td>Population of the official age for tertiary ed...</td>\n",
       "      <td>3.062531e+06</td>\n",
       "      <td>2.971069e+06</td>\n",
       "      <td>2.872113e+06</td>\n",
       "      <td>2.778176e+06</td>\n",
       "      <td>2.688434e+06</td>\n",
       "      <td>2.604760e+06</td>\n",
       "      <td>2.550048e+06</td>\n",
       "      <td>2.496864e+06</td>\n",
       "      <td>2.442525e+06</td>\n",
       "      <td>2.388415e+06</td>\n",
       "      <td>2.338119e+06</td>\n",
       "    </tr>\n",
       "    <tr>\n",
       "      <th>11</th>\n",
       "      <td>Spain</td>\n",
       "      <td>ESP</td>\n",
       "      <td>Population of the official age for tertiary ed...</td>\n",
       "      <td>1.489870e+06</td>\n",
       "      <td>1.444683e+06</td>\n",
       "      <td>1.396227e+06</td>\n",
       "      <td>1.350454e+06</td>\n",
       "      <td>1.306758e+06</td>\n",
       "      <td>1.265829e+06</td>\n",
       "      <td>1.238629e+06</td>\n",
       "      <td>1.212286e+06</td>\n",
       "      <td>1.185826e+06</td>\n",
       "      <td>1.160061e+06</td>\n",
       "      <td>1.136732e+06</td>\n",
       "    </tr>\n",
       "    <tr>\n",
       "      <th>12</th>\n",
       "      <td>Spain</td>\n",
       "      <td>ESP</td>\n",
       "      <td>Population of the official age for tertiary ed...</td>\n",
       "      <td>1.572661e+06</td>\n",
       "      <td>1.526386e+06</td>\n",
       "      <td>1.475886e+06</td>\n",
       "      <td>1.427722e+06</td>\n",
       "      <td>1.381676e+06</td>\n",
       "      <td>1.338931e+06</td>\n",
       "      <td>1.311419e+06</td>\n",
       "      <td>1.284578e+06</td>\n",
       "      <td>1.256699e+06</td>\n",
       "      <td>1.228354e+06</td>\n",
       "      <td>1.201387e+06</td>\n",
       "    </tr>\n",
       "    <tr>\n",
       "      <th>13</th>\n",
       "      <td>Spain</td>\n",
       "      <td>ESP</td>\n",
       "      <td>Population growth (annual %)</td>\n",
       "      <td>6.940681e-01</td>\n",
       "      <td>1.412595e+00</td>\n",
       "      <td>1.808454e+00</td>\n",
       "      <td>1.725466e+00</td>\n",
       "      <td>1.689349e+00</td>\n",
       "      <td>1.690353e+00</td>\n",
       "      <td>1.851081e+00</td>\n",
       "      <td>1.595330e+00</td>\n",
       "      <td>8.857360e-01</td>\n",
       "      <td>4.604083e-01</td>\n",
       "      <td>3.553384e-01</td>\n",
       "    </tr>\n",
       "  </tbody>\n",
       "</table>\n",
       "</div>"
      ],
      "text/plain": [
       "      Country Name Country Code  \\\n",
       "0   United Kingdom          GBR   \n",
       "1   United Kingdom          GBR   \n",
       "2   United Kingdom          GBR   \n",
       "3   United Kingdom          GBR   \n",
       "4   United Kingdom          GBR   \n",
       "5   United Kingdom          GBR   \n",
       "6   United Kingdom          GBR   \n",
       "7            Spain          ESP   \n",
       "8            Spain          ESP   \n",
       "9            Spain          ESP   \n",
       "10           Spain          ESP   \n",
       "11           Spain          ESP   \n",
       "12           Spain          ESP   \n",
       "13           Spain          ESP   \n",
       "\n",
       "                                       Indicator Name          2001  \\\n",
       "0   Population of the official age for secondary e...  5.281251e+06   \n",
       "1   Population of the official age for secondary e...  2.580514e+06   \n",
       "2   Population of the official age for secondary e...  2.700737e+06   \n",
       "3   Population of the official age for tertiary ed...  3.485742e+06   \n",
       "4   Population of the official age for tertiary ed...  1.730684e+06   \n",
       "5   Population of the official age for tertiary ed...  1.755058e+06   \n",
       "6                        Population growth (annual %)  3.849760e-01   \n",
       "7   Population of the official age for secondary e...  2.847214e+06   \n",
       "8   Population of the official age for secondary e...  1.381294e+06   \n",
       "9   Population of the official age for secondary e...  1.465920e+06   \n",
       "10  Population of the official age for tertiary ed...  3.062531e+06   \n",
       "11  Population of the official age for tertiary ed...  1.489870e+06   \n",
       "12  Population of the official age for tertiary ed...  1.572661e+06   \n",
       "13                       Population growth (annual %)  6.940681e-01   \n",
       "\n",
       "            2002          2003          2004          2005          2006  \\\n",
       "0   5.371033e+06  5.428790e+06  5.459665e+06  5.466397e+06  5.450755e+06   \n",
       "1   2.621106e+06  2.645591e+06  2.656926e+06  2.657262e+06  2.648123e+06   \n",
       "2   2.749927e+06  2.783199e+06  2.802739e+06  2.809135e+06  2.802632e+06   \n",
       "3   3.579271e+06  3.684921e+06  3.785901e+06  3.877123e+06  3.951026e+06   \n",
       "4   1.771079e+06  1.817199e+06  1.861146e+06  1.900267e+06  1.930730e+06   \n",
       "5   1.808192e+06  1.867722e+06  1.924755e+06  1.976856e+06  2.020296e+06   \n",
       "6   4.233371e-01  4.656411e-01  5.689431e-01  6.866113e-01  7.350487e-01   \n",
       "7   2.776477e+06  2.719937e+06  2.674847e+06  2.644654e+06  2.629714e+06   \n",
       "8   1.347284e+06  1.320000e+06  1.298216e+06  1.283776e+06  1.277042e+06   \n",
       "9   1.429193e+06  1.399937e+06  1.376631e+06  1.360878e+06  1.352672e+06   \n",
       "10  2.971069e+06  2.872113e+06  2.778176e+06  2.688434e+06  2.604760e+06   \n",
       "11  1.444683e+06  1.396227e+06  1.350454e+06  1.306758e+06  1.265829e+06   \n",
       "12  1.526386e+06  1.475886e+06  1.427722e+06  1.381676e+06  1.338931e+06   \n",
       "13  1.412595e+00  1.808454e+00  1.725466e+00  1.689349e+00  1.690353e+00   \n",
       "\n",
       "            2007          2008          2009          2010          2011  \n",
       "0   5.474232e+06  5.477854e+06  5.464484e+06  5.434493e+06  5.385484e+06  \n",
       "1   2.668074e+06  2.677290e+06  2.675829e+06  2.663199e+06  2.638065e+06  \n",
       "2   2.806158e+06  2.800564e+06  2.788655e+06  2.771294e+06  2.747419e+06  \n",
       "3   4.028533e+06  4.095885e+06  4.153190e+06  4.197265e+06  4.225219e+06  \n",
       "4   1.969999e+06  2.004477e+06  2.034937e+06  2.060122e+06  2.079167e+06  \n",
       "5   2.058534e+06  2.091408e+06  2.118253e+06  2.137143e+06  2.146052e+06  \n",
       "6   7.786661e-01  7.870326e-01  7.563909e-01  7.838886e-01  7.816773e-01  \n",
       "7   2.621290e+06  2.608463e+06  2.588814e+06  2.560624e+06  2.525829e+06  \n",
       "8   1.273218e+06  1.266914e+06  1.257272e+06  1.243946e+06  1.228149e+06  \n",
       "9   1.348072e+06  1.341549e+06  1.331542e+06  1.316678e+06  1.297680e+06  \n",
       "10  2.550048e+06  2.496864e+06  2.442525e+06  2.388415e+06  2.338119e+06  \n",
       "11  1.238629e+06  1.212286e+06  1.185826e+06  1.160061e+06  1.136732e+06  \n",
       "12  1.311419e+06  1.284578e+06  1.256699e+06  1.228354e+06  1.201387e+06  \n",
       "13  1.851081e+00  1.595330e+00  8.857360e-01  4.604083e-01  3.553384e-01  "
      ]
     },
     "execution_count": 83,
     "metadata": {},
     "output_type": "execute_result"
    }
   ],
   "source": [
    "education_data"
   ]
  },
  {
   "cell_type": "code",
   "execution_count": 84,
   "metadata": {},
   "outputs": [
    {
     "data": {
      "text/plain": [
       "7"
      ]
     },
     "execution_count": 84,
     "metadata": {},
     "output_type": "execute_result"
    }
   ],
   "source": [
    "len(education_data[\"Indicator Name\"].unique())"
   ]
  },
  {
   "cell_type": "code",
   "execution_count": 85,
   "metadata": {},
   "outputs": [
    {
     "data": {
      "text/plain": [
       "['2001',\n",
       " '2002',\n",
       " '2003',\n",
       " '2004',\n",
       " '2005',\n",
       " '2006',\n",
       " '2007',\n",
       " '2008',\n",
       " '2009',\n",
       " '2010',\n",
       " '2011']"
      ]
     },
     "execution_count": 85,
     "metadata": {},
     "output_type": "execute_result"
    }
   ],
   "source": [
    "list(education_data.columns[3:])"
   ]
  },
  {
   "cell_type": "code",
   "execution_count": 86,
   "metadata": {},
   "outputs": [],
   "source": [
    "x=list(map(int,list(education_data.columns[3:])))"
   ]
  },
  {
   "cell_type": "code",
   "execution_count": 87,
   "metadata": {},
   "outputs": [
    {
     "data": {
      "text/plain": [
       "[2001, 2002, 2003, 2004, 2005, 2006, 2007, 2008, 2009, 2010, 2011]"
      ]
     },
     "execution_count": 87,
     "metadata": {},
     "output_type": "execute_result"
    }
   ],
   "source": [
    "x"
   ]
  },
  {
   "cell_type": "code",
   "execution_count": 88,
   "metadata": {},
   "outputs": [
    {
     "data": {
      "text/plain": [
       "[5281251.0,\n",
       " 5371033.0,\n",
       " 5428790.0,\n",
       " 5459665.0,\n",
       " 5466397.0,\n",
       " 5450755.0,\n",
       " 5474232.0,\n",
       " 5477854.0,\n",
       " 5464484.0,\n",
       " 5434493.0,\n",
       " 5385484.0]"
      ]
     },
     "execution_count": 88,
     "metadata": {},
     "output_type": "execute_result"
    }
   ],
   "source": [
    "y1=list(education_data.iloc[0].values)[3:]\n",
    "y1"
   ]
  },
  {
   "cell_type": "code",
   "execution_count": 89,
   "metadata": {},
   "outputs": [],
   "source": [
    "Title=education_data.iloc[0].values[2]"
   ]
  },
  {
   "cell_type": "code",
   "execution_count": 90,
   "metadata": {},
   "outputs": [
    {
     "data": {
      "text/plain": [
       "[2847214.0,\n",
       " 2776477.0,\n",
       " 2719937.0,\n",
       " 2674847.0,\n",
       " 2644654.0,\n",
       " 2629714.0,\n",
       " 2621290.0,\n",
       " 2608463.0,\n",
       " 2588814.0,\n",
       " 2560624.0,\n",
       " 2525829.0]"
      ]
     },
     "execution_count": 90,
     "metadata": {},
     "output_type": "execute_result"
    }
   ],
   "source": [
    "y2=list(education_data.iloc[7].values)[3:]\n",
    "y2"
   ]
  },
  {
   "cell_type": "code",
   "execution_count": 91,
   "metadata": {},
   "outputs": [
    {
     "data": {
      "text/plain": [
       "'Population of the official age for secondary education, both sexes (number)'"
      ]
     },
     "execution_count": 91,
     "metadata": {},
     "output_type": "execute_result"
    }
   ],
   "source": [
    "education_data.iloc[0].values[2]"
   ]
  },
  {
   "cell_type": "code",
   "execution_count": 92,
   "metadata": {},
   "outputs": [
    {
     "data": {
      "image/png": "[encoded data removed]",
      "text/plain": [
       "<Figure size 432x288 with 1 Axes>"
      ]
     },
     "metadata": {
      "needs_background": "light"
     },
     "output_type": "display_data"
    }
   ],
   "source": [
    "plt.plot(x,y1, linestyle= 'dashed', marker= 'D',label=\"UK population\")\n",
    "plt.plot(x,y2, linestyle= 'dashed', marker= 'D',label=\"Spain population\")\n",
    "plt.title(Title)\n",
    "plt.xlabel('Year')\n",
    "plt.ylabel('Population')\n",
    "plt.xticks(x,rotation=90)\n",
    "plt.legend()\n",
    "plt.ylim(0,6000000)\n",
    "plt.yticks([0, 1000000,2000000,3000000, 4000000, 5000000, 6000000])\n",
    "plt.show()"
   ]
  },
  {
   "cell_type": "code",
   "execution_count": 93,
   "metadata": {},
   "outputs": [
    {
     "data": {
      "text/plain": [
       "[2580514.0,\n",
       " 2621106.0,\n",
       " 2645591.0,\n",
       " 2656926.0,\n",
       " 2657262.0,\n",
       " 2648123.0,\n",
       " 2668074.0,\n",
       " 2677290.0,\n",
       " 2675829.0,\n",
       " 2663199.0,\n",
       " 2638065.0]"
      ]
     },
     "execution_count": 93,
     "metadata": {},
     "output_type": "execute_result"
    }
   ],
   "source": [
    "y3=list(education_data.iloc[1].values)[3:]\n",
    "y3"
   ]
  },
  {
   "cell_type": "code",
   "execution_count": 94,
   "metadata": {},
   "outputs": [
    {
     "data": {
      "text/plain": [
       "[1381294.0,\n",
       " 1347284.0,\n",
       " 1320000.0,\n",
       " 1298216.0,\n",
       " 1283776.0,\n",
       " 1277042.0,\n",
       " 1273218.0,\n",
       " 1266914.0,\n",
       " 1257272.0,\n",
       " 1243946.0,\n",
       " 1228149.0]"
      ]
     },
     "execution_count": 94,
     "metadata": {},
     "output_type": "execute_result"
    }
   ],
   "source": [
    "y4=list(education_data.iloc[8].values)[3:]\n",
    "y4"
   ]
  },
  {
   "cell_type": "code",
   "execution_count": 95,
   "metadata": {},
   "outputs": [],
   "source": [
    "Title1=education_data.iloc[1].values[2]"
   ]
  },
  {
   "cell_type": "code",
   "execution_count": 96,
   "metadata": {},
   "outputs": [
    {
     "data": {
      "image/png": "[encoded data removed]",
      "text/plain": [
       "<Figure size 432x288 with 1 Axes>"
      ]
     },
     "metadata": {
      "needs_background": "light"
     },
     "output_type": "display_data"
    }
   ],
   "source": [
    "plt.plot(x,y3, linestyle= 'dashed', marker= 'D',label=\"UK population\")\n",
    "plt.plot(x,y4, linestyle= 'dashed', marker= 'D',label=\"Spain population\")\n",
    "plt.title(Title1)\n",
    "plt.xlabel('Year')\n",
    "plt.ylabel('Population')\n",
    "plt.xticks(x,rotation=90)\n",
    "plt.legend()\n",
    "plt.ylim(0,6000000)\n",
    "plt.yticks([0, 1000000,2000000,3000000, 4000000, 5000000, 6000000])\n",
    "plt.show()"
   ]
  },
  {
   "cell_type": "code",
   "execution_count": 97,
   "metadata": {},
   "outputs": [
    {
     "data": {
      "text/plain": [
       "[2700737.0,\n",
       " 2749927.0,\n",
       " 2783199.0,\n",
       " 2802739.0,\n",
       " 2809135.0,\n",
       " 2802632.0,\n",
       " 2806158.0,\n",
       " 2800564.0,\n",
       " 2788655.0,\n",
       " 2771294.0,\n",
       " 2747419.0]"
      ]
     },
     "execution_count": 97,
     "metadata": {},
     "output_type": "execute_result"
    }
   ],
   "source": [
    "y5=list(education_data.iloc[2].values)[3:]\n",
    "y5"
   ]
  },
  {
   "cell_type": "code",
   "execution_count": 98,
   "metadata": {},
   "outputs": [
    {
     "data": {
      "text/plain": [
       "[1465920.0,\n",
       " 1429193.0,\n",
       " 1399937.0,\n",
       " 1376631.0,\n",
       " 1360878.0,\n",
       " 1352672.0,\n",
       " 1348072.0,\n",
       " 1341549.0,\n",
       " 1331542.0,\n",
       " 1316678.0,\n",
       " 1297680.0]"
      ]
     },
     "execution_count": 98,
     "metadata": {},
     "output_type": "execute_result"
    }
   ],
   "source": [
    "y6=list(education_data.iloc[9].values)[3:]\n",
    "y6"
   ]
  },
  {
   "cell_type": "code",
   "execution_count": 99,
   "metadata": {},
   "outputs": [],
   "source": [
    "Title2=education_data.iloc[2].values[2]"
   ]
  },
  {
   "cell_type": "code",
   "execution_count": 100,
   "metadata": {},
   "outputs": [
    {
     "data": {
      "image/png": "[encoded data removed]",
      "text/plain": [
       "<Figure size 432x288 with 1 Axes>"
      ]
     },
     "metadata": {
      "needs_background": "light"
     },
     "output_type": "display_data"
    }
   ],
   "source": [
    "plt.plot(x,y5, linestyle= 'dashed', marker= 'D',label=\"UK population\")\n",
    "plt.plot(x,y6, linestyle= 'dashed', marker= 'D',label=\"Spain population\")\n",
    "plt.title(Title2)\n",
    "plt.xlabel('Year')\n",
    "plt.ylabel('Population')\n",
    "plt.xticks(x,rotation=90)\n",
    "plt.legend()\n",
    "plt.ylim(0,6000000)\n",
    "plt.yticks([0, 1000000,2000000,3000000, 4000000, 5000000, 6000000])\n",
    "plt.show()"
   ]
  },
  {
   "cell_type": "code",
   "execution_count": 101,
   "metadata": {},
   "outputs": [
    {
     "data": {
      "text/plain": [
       "[3485742.0,\n",
       " 3579271.0,\n",
       " 3684921.0,\n",
       " 3785901.0,\n",
       " 3877123.0,\n",
       " 3951026.0,\n",
       " 4028533.0,\n",
       " 4095885.0,\n",
       " 4153190.0,\n",
       " 4197265.0,\n",
       " 4225219.0]"
      ]
     },
     "execution_count": 101,
     "metadata": {},
     "output_type": "execute_result"
    }
   ],
   "source": [
    "y7=list(education_data.iloc[3].values)[3:]\n",
    "y7"
   ]
  },
  {
   "cell_type": "code",
   "execution_count": 102,
   "metadata": {},
   "outputs": [
    {
     "data": {
      "text/plain": [
       "[3062531.0,\n",
       " 2971069.0,\n",
       " 2872113.0,\n",
       " 2778176.0,\n",
       " 2688434.0,\n",
       " 2604760.0,\n",
       " 2550048.0,\n",
       " 2496864.0,\n",
       " 2442525.0,\n",
       " 2388415.0,\n",
       " 2338119.0]"
      ]
     },
     "execution_count": 102,
     "metadata": {},
     "output_type": "execute_result"
    }
   ],
   "source": [
    "y8=list(education_data.iloc[10].values)[3:]\n",
    "y8"
   ]
  },
  {
   "cell_type": "code",
   "execution_count": 103,
   "metadata": {},
   "outputs": [],
   "source": [
    "Title3=education_data.iloc[3].values[2]"
   ]
  },
  {
   "cell_type": "code",
   "execution_count": 104,
   "metadata": {},
   "outputs": [
    {
     "data": {
      "image/png": "[encoded data removed]",
      "text/plain": [
       "<Figure size 432x288 with 1 Axes>"
      ]
     },
     "metadata": {
      "needs_background": "light"
     },
     "output_type": "display_data"
    }
   ],
   "source": [
    "plt.plot(x,y7, linestyle= 'dashed', marker= 'D',label=\"UK population\")\n",
    "plt.plot(x,y8, linestyle= 'dashed', marker= 'D',label=\"Spain population\")\n",
    "plt.title(Title3)\n",
    "plt.xlabel('Year')\n",
    "plt.ylabel('Population')\n",
    "plt.xticks(x,rotation=90)\n",
    "plt.legend()\n",
    "plt.ylim(0,6000000)\n",
    "plt.yticks([0, 1000000,2000000,3000000, 4000000, 5000000, 6000000])\n",
    "plt.show()"
   ]
  },
  {
   "cell_type": "code",
   "execution_count": 105,
   "metadata": {},
   "outputs": [
    {
     "data": {
      "text/plain": [
       "[1730684.0,\n",
       " 1771079.0,\n",
       " 1817199.0,\n",
       " 1861146.0,\n",
       " 1900267.0,\n",
       " 1930730.0,\n",
       " 1969999.0,\n",
       " 2004477.0,\n",
       " 2034937.0,\n",
       " 2060122.0,\n",
       " 2079167.0]"
      ]
     },
     "execution_count": 105,
     "metadata": {},
     "output_type": "execute_result"
    }
   ],
   "source": [
    "y9=list(education_data.iloc[4].values)[3:]\n",
    "y9"
   ]
  },
  {
   "cell_type": "code",
   "execution_count": 106,
   "metadata": {},
   "outputs": [
    {
     "data": {
      "text/plain": [
       "[1489870.0,\n",
       " 1444683.0,\n",
       " 1396227.0,\n",
       " 1350454.0,\n",
       " 1306758.0,\n",
       " 1265829.0,\n",
       " 1238629.0,\n",
       " 1212286.0,\n",
       " 1185826.0,\n",
       " 1160061.0,\n",
       " 1136732.0]"
      ]
     },
     "execution_count": 106,
     "metadata": {},
     "output_type": "execute_result"
    }
   ],
   "source": [
    "y10=list(education_data.iloc[11].values)[3:]\n",
    "y10"
   ]
  },
  {
   "cell_type": "code",
   "execution_count": 107,
   "metadata": {},
   "outputs": [],
   "source": [
    "Title4=education_data.iloc[4].values[2]"
   ]
  },
  {
   "cell_type": "code",
   "execution_count": 108,
   "metadata": {},
   "outputs": [
    {
     "data": {
      "image/png": "[encoded data removed]",
      "text/plain": [
       "<Figure size 432x288 with 1 Axes>"
      ]
     },
     "metadata": {
      "needs_background": "light"
     },
     "output_type": "display_data"
    }
   ],
   "source": [
    "plt.plot(x,y9, linestyle= 'dashed', marker= 'D',label=\"UK population\")\n",
    "plt.plot(x,y10, linestyle= 'dashed', marker= 'D',label=\"Spain population\")\n",
    "plt.title(Title4)\n",
    "plt.xlabel('Year')\n",
    "plt.ylabel('Population')\n",
    "plt.xticks(x,rotation=90)\n",
    "plt.legend()\n",
    "plt.ylim(0,6000000)\n",
    "plt.yticks([0, 1000000,2000000,3000000, 4000000, 5000000, 6000000])\n",
    "plt.show()"
   ]
  },
  {
   "cell_type": "code",
   "execution_count": 109,
   "metadata": {},
   "outputs": [
    {
     "data": {
      "text/plain": [
       "[1755058.0,\n",
       " 1808192.0,\n",
       " 1867722.0,\n",
       " 1924755.0,\n",
       " 1976856.0,\n",
       " 2020296.0,\n",
       " 2058534.0,\n",
       " 2091408.0,\n",
       " 2118253.0,\n",
       " 2137143.0,\n",
       " 2146052.0]"
      ]
     },
     "execution_count": 109,
     "metadata": {},
     "output_type": "execute_result"
    }
   ],
   "source": [
    "y11=list(education_data.iloc[5].values)[3:]\n",
    "y11"
   ]
  },
  {
   "cell_type": "code",
   "execution_count": 110,
   "metadata": {},
   "outputs": [
    {
     "data": {
      "text/plain": [
       "[1572661.0,\n",
       " 1526386.0,\n",
       " 1475886.0,\n",
       " 1427722.0,\n",
       " 1381676.0,\n",
       " 1338931.0,\n",
       " 1311419.0,\n",
       " 1284578.0,\n",
       " 1256699.0,\n",
       " 1228354.0,\n",
       " 1201387.0]"
      ]
     },
     "execution_count": 110,
     "metadata": {},
     "output_type": "execute_result"
    }
   ],
   "source": [
    "y12=list(education_data.iloc[12].values)[3:]\n",
    "y12"
   ]
  },
  {
   "cell_type": "code",
   "execution_count": 111,
   "metadata": {},
   "outputs": [],
   "source": [
    "Title5=education_data.iloc[5].values[2]"
   ]
  },
  {
   "cell_type": "code",
   "execution_count": 112,
   "metadata": {},
   "outputs": [
    {
     "data": {
      "image/png": "[encoded data removed]",
      "text/plain": [
       "<Figure size 432x288 with 1 Axes>"
      ]
     },
     "metadata": {
      "needs_background": "light"
     },
     "output_type": "display_data"
    }
   ],
   "source": [
    "plt.plot(x,y11, linestyle= 'dashed', marker= 'D',label=\"UK population\")\n",
    "plt.plot(x,y12, linestyle= 'dashed', marker= 'D',label=\"Spain population\")\n",
    "plt.title(Title5)\n",
    "plt.xlabel('Year')\n",
    "plt.ylabel('Population')\n",
    "plt.xticks(x,rotation=90)\n",
    "plt.legend()\n",
    "plt.ylim(0,6000000)\n",
    "plt.yticks([0, 1000000,2000000,3000000, 4000000, 5000000, 6000000])\n",
    "plt.show()"
   ]
  }
 ],
 "metadata": {
  "kernelspec": {
   "display_name": "Python 3",
   "language": "python",
   "name": "python3"
  },
  "language_info": {
   "codemirror_mode": {
    "name": "ipython",
    "version": 3
   },
   "file_extension": ".py",
   "mimetype": "text/x-python",
   "name": "python",
   "nbconvert_exporter": "python",
   "pygments_lexer": "ipython3",
   "version": "3.8.3"
  }
 },
 "nbformat": 4,
 "nbformat_minor": 4
}
