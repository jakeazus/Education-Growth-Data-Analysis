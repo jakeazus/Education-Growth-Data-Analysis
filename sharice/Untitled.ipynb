{
 "cells": [
  {
   "cell_type": "code",
   "execution_count": 1,
   "metadata": {},
   "outputs": [
    {
     "data": {
      "text/html": [
       "<div>\n",
       "<style scoped>\n",
       "    .dataframe tbody tr th:only-of-type {\n",
       "        vertical-align: middle;\n",
       "    }\n",
       "\n",
       "    .dataframe tbody tr th {\n",
       "        vertical-align: top;\n",
       "    }\n",
       "\n",
       "    .dataframe thead th {\n",
       "        text-align: right;\n",
       "    }\n",
       "</style>\n",
       "<table border=\"1\" class=\"dataframe\">\n",
       "  <thead>\n",
       "    <tr style=\"text-align: right;\">\n",
       "      <th></th>\n",
       "      <th>Country Name</th>\n",
       "      <th>Indicator Name</th>\n",
       "      <th>2001</th>\n",
       "      <th>2002</th>\n",
       "      <th>2003</th>\n",
       "      <th>2004</th>\n",
       "      <th>2005</th>\n",
       "      <th>2006</th>\n",
       "      <th>2007</th>\n",
       "      <th>2008</th>\n",
       "      <th>2009</th>\n",
       "      <th>2010</th>\n",
       "      <th>2011</th>\n",
       "    </tr>\n",
       "  </thead>\n",
       "  <tbody>\n",
       "    <tr>\n",
       "      <th>0</th>\n",
       "      <td>United Kingdom</td>\n",
       "      <td>Population of the official age for tertiary ed...</td>\n",
       "      <td>3.485742e+06</td>\n",
       "      <td>3.579271e+06</td>\n",
       "      <td>3.684921e+06</td>\n",
       "      <td>3.785901e+06</td>\n",
       "      <td>3.877123e+06</td>\n",
       "      <td>3.951026e+06</td>\n",
       "      <td>4.028533e+06</td>\n",
       "      <td>4.095885e+06</td>\n",
       "      <td>4.153190e+06</td>\n",
       "      <td>4.197265e+06</td>\n",
       "      <td>4.225219e+06</td>\n",
       "    </tr>\n",
       "    <tr>\n",
       "      <th>1</th>\n",
       "      <td>United Kingdom</td>\n",
       "      <td>Percentage of students in tertiary education e...</td>\n",
       "      <td>1.741871e+01</td>\n",
       "      <td>1.636423e+01</td>\n",
       "      <td>1.345304e+01</td>\n",
       "      <td>1.446205e+01</td>\n",
       "      <td>1.418821e+01</td>\n",
       "      <td>1.367021e+01</td>\n",
       "      <td>1.338861e+01</td>\n",
       "      <td>1.291439e+01</td>\n",
       "      <td>1.294478e+01</td>\n",
       "      <td>1.332932e+01</td>\n",
       "      <td>1.347822e+01</td>\n",
       "    </tr>\n",
       "    <tr>\n",
       "      <th>2</th>\n",
       "      <td>Spain</td>\n",
       "      <td>Population of the official age for tertiary ed...</td>\n",
       "      <td>3.062531e+06</td>\n",
       "      <td>2.971069e+06</td>\n",
       "      <td>2.872113e+06</td>\n",
       "      <td>2.778176e+06</td>\n",
       "      <td>2.688434e+06</td>\n",
       "      <td>2.604760e+06</td>\n",
       "      <td>2.550048e+06</td>\n",
       "      <td>2.496864e+06</td>\n",
       "      <td>2.442525e+06</td>\n",
       "      <td>2.388415e+06</td>\n",
       "      <td>2.338119e+06</td>\n",
       "    </tr>\n",
       "    <tr>\n",
       "      <th>3</th>\n",
       "      <td>Spain</td>\n",
       "      <td>Percentage of students in tertiary education e...</td>\n",
       "      <td>1.294783e+01</td>\n",
       "      <td>1.324249e+01</td>\n",
       "      <td>1.346789e+01</td>\n",
       "      <td>1.313999e+01</td>\n",
       "      <td>1.219546e+01</td>\n",
       "      <td>1.137876e+01</td>\n",
       "      <td>1.049109e+01</td>\n",
       "      <td>9.936280e+00</td>\n",
       "      <td>1.036892e+01</td>\n",
       "      <td>9.122800e+00</td>\n",
       "      <td>9.761330e+00</td>\n",
       "    </tr>\n",
       "  </tbody>\n",
       "</table>\n",
       "</div>"
      ],
      "text/plain": [
       "     Country Name                                     Indicator Name  \\\n",
       "0  United Kingdom  Population of the official age for tertiary ed...   \n",
       "1  United Kingdom  Percentage of students in tertiary education e...   \n",
       "2           Spain  Population of the official age for tertiary ed...   \n",
       "3           Spain  Percentage of students in tertiary education e...   \n",
       "\n",
       "           2001          2002          2003          2004          2005  \\\n",
       "0  3.485742e+06  3.579271e+06  3.684921e+06  3.785901e+06  3.877123e+06   \n",
       "1  1.741871e+01  1.636423e+01  1.345304e+01  1.446205e+01  1.418821e+01   \n",
       "2  3.062531e+06  2.971069e+06  2.872113e+06  2.778176e+06  2.688434e+06   \n",
       "3  1.294783e+01  1.324249e+01  1.346789e+01  1.313999e+01  1.219546e+01   \n",
       "\n",
       "           2006          2007          2008          2009          2010  \\\n",
       "0  3.951026e+06  4.028533e+06  4.095885e+06  4.153190e+06  4.197265e+06   \n",
       "1  1.367021e+01  1.338861e+01  1.291439e+01  1.294478e+01  1.332932e+01   \n",
       "2  2.604760e+06  2.550048e+06  2.496864e+06  2.442525e+06  2.388415e+06   \n",
       "3  1.137876e+01  1.049109e+01  9.936280e+00  1.036892e+01  9.122800e+00   \n",
       "\n",
       "           2011  \n",
       "0  4.225219e+06  \n",
       "1  1.347822e+01  \n",
       "2  2.338119e+06  \n",
       "3  9.761330e+00  "
      ]
     },
     "execution_count": 1,
     "metadata": {},
     "output_type": "execute_result"
    }
   ],
   "source": [
    "import numpy as np\n",
    "import pandas as pd\n",
    "import matplotlib.pyplot as plt\n",
    "import seaborn as sns\n",
    "\n",
    "file = \"Resources/UK&SPPoSc.csv\"\n",
    "\n",
    "data =pd.read_csv(file)\n",
    "\n",
    "data.head()"
   ]
  },
  {
   "cell_type": "code",
   "execution_count": 9,
   "metadata": {},
   "outputs": [
    {
     "data": {
      "text/plain": [
       "<matplotlib.legend.Legend at 0x162cfddbe50>"
      ]
     },
     "execution_count": 9,
     "metadata": {},
     "output_type": "execute_result"
    },
    {
     "data": {
      "image/png": "[encoded data removed]",
      "text/plain": [
       "<Figure size 432x288 with 1 Axes>"
      ]
     },
     "metadata": {
      "needs_background": "light"
     },
     "output_type": "display_data"
    }
   ],
   "source": [
    "yr_10 = \"2001\", \"2002\", \"2003\", \"2004\", \"2005\", \"2006\", \"2007\", \"2008\", \"2009\", \"2010\", \"2011\"\n",
    "plt.plot(yr_10, data.iloc[0, 2:13], label=\"UK_pop_\", marker='o')\n",
    "plt.plot(yr_10, data.iloc[1, 2:13], label=\"UK_sci_enroll\", marker='o')\n",
    "plt.plot(yr_10, data.iloc[2, 2:13], label=\"SP_pop\", marker='o')\n",
    "plt.plot(yr_10, data.iloc[3, 2:13], label=\"SP_sci_enroll\", marker='o')\n",
    "\n",
    "plt.title(\"UK vs Spain Population of the official age for tertiary education, both sexes​ & Percentage of students in tertiary education enrolled in Science programmes, both sexes\")\n",
    "plt.xlabel(\"years\")\n",
    "plt.ylabel(\"Percentage\")\n",
    "plt.legend()"
   ]
  },
  {
   "cell_type": "code",
   "execution_count": 7,
   "metadata": {},
   "outputs": [
    {
     "data": {
      "text/plain": [
       "2001    17.4187\n",
       "2002    16.3642\n",
       "2003     13.453\n",
       "2004    14.4621\n",
       "2005    14.1882\n",
       "2006    13.6702\n",
       "2007    13.3886\n",
       "2008    12.9144\n",
       "2009    12.9448\n",
       "2010    13.3293\n",
       "2011    13.4782\n",
       "Name: 1, dtype: object"
      ]
     },
     "execution_count": 7,
     "metadata": {},
     "output_type": "execute_result"
    }
   ],
   "source": [
    "row = data.iloc[1, 2:13]\n",
    "\n",
    "row"
   ]
  },
  {
   "cell_type": "code",
   "execution_count": null,
   "metadata": {},
   "outputs": [],
   "source": []
  }
 ],
 "metadata": {
  "kernelspec": {
   "display_name": "Python 3",
   "language": "python",
   "name": "python3"
  },
  "language_info": {
   "codemirror_mode": {
    "name": "ipython",
    "version": 3
   },
   "file_extension": ".py",
   "mimetype": "text/x-python",
   "name": "python",
   "nbconvert_exporter": "python",
   "pygments_lexer": "ipython3",
   "version": "3.8.3"
  }
 },
 "nbformat": 4,
 "nbformat_minor": 4
}
